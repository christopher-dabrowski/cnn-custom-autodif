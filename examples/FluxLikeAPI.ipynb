{
 "cells": [
  {
   "cell_type": "code",
   "execution_count": 3,
   "id": "388e2651",
   "metadata": {},
   "outputs": [
    {
     "name": "stderr",
     "output_type": "stream",
     "text": [
      "\u001b[32m\u001b[1m  Activating\u001b[22m\u001b[39m project at `~/Library/CloudStorage/OneDrive-Personal/Documents/Studia/Semestr 8/Algorytmy w inżynierii danych/Projekt/KamienMilowy2/KM2_Piotr_Szczerba`\n"
     ]
    }
   ],
   "source": [
    "using Pkg\n",
    "Pkg.activate(\"..\")"
   ]
  },
  {
   "cell_type": "code",
   "execution_count": 4,
   "id": "c61795d1",
   "metadata": {},
   "outputs": [
    {
     "data": {
      "text/plain": [
       "binary_cross_entropy_loss (generic function with 1 method)"
      ]
     },
     "metadata": {},
     "output_type": "display_data"
    }
   ],
   "source": [
    "include(\"../autodiff/graph.jl\")\n",
    "include(\"../autodiff/forward.jl\")\n",
    "include(\"../autodiff/backward.jl\")\n",
    "include(\"../autodiff/operators.jl\")\n",
    "include(\"../neuralnet/dataloader.jl\")\n",
    "include(\"../autodiff/flux_like_api.jl\")\n",
    "\n",
    "using JLD2\n",
    "using Random\n",
    "using Statistics\n",
    "using Printf\n",
    "\n",
    "X_train = load(\"../data/imdb_dataset_prepared.jld2\", \"X_train\")\n",
    "y_train = load(\"../data/imdb_dataset_prepared.jld2\", \"y_train\")\n",
    "X_test = load(\"../data/imdb_dataset_prepared.jld2\", \"X_test\")\n",
    "y_test = load(\"../data/imdb_dataset_prepared.jld2\", \"y_test\")\n",
    "\n",
    "y_train = Float32.(y_train)\n",
    "y_test = Float32.(y_test)\n",
    "\n",
    "batch_size = 64\n",
    "\n",
    "dataset = DataLoader(X_train, y_train, batch_size, shuffle=true)\n",
    "\n",
    "input_neurons = size(X_train, 1)\n",
    "hidden_neurons = 32\n",
    "output_neurons = 1\n",
    "\n",
    "epochs = 5\n",
    "\n",
    "ϵ = Constant(1e-7)\n",
    "binary_cross_entropy_loss(y, ŷ) = mean(Constant(-1.0) .* (y .* log.(ŷ .+ ϵ) .+ (Constant(1.0) .- y) .* log.(Constant(1.0) .- ŷ .+ ϵ)))"
   ]
  },
  {
   "cell_type": "code",
   "execution_count": 5,
   "id": "cf4aa1b9",
   "metadata": {},
   "outputs": [
    {
     "data": {
      "text/plain": [
       "Dense{typeof(relu)}(Variable(Float32[0.0010591024 -0.013475468 … -0.006705568 -0.012882979; 0.012632421 -0.0040448876 … -0.0009320052 0.0010995327; … ; 0.0047158375 -0.016759556 … -0.005143863 0.009779765; 0.004992991 0.008362246 … -0.0014324104 0.005771153], nothing, \"weight\"), Variable([0.0, 0.0, 0.0, 0.0, 0.0, 0.0, 0.0, 0.0, 0.0, 0.0  …  0.0, 0.0, 0.0, 0.0, 0.0, 0.0, 0.0, 0.0, 0.0, 0.0], nothing, \"bias\"), Main.relu)"
      ]
     },
     "metadata": {},
     "output_type": "display_data"
    }
   ],
   "source": [
    "Dense(input_neurons, hidden_neurons, relu)"
   ]
  },
  {
   "cell_type": "code",
   "execution_count": 6,
   "id": "7f686fce",
   "metadata": {},
   "outputs": [
    {
     "data": {
      "text/plain": [
       "AdamState(Adam(0.001, 0.9, 0.999, 1.0e-8), Dict{Variable, Tuple{Array, Array, Int64}}(Variable(Float32[0.15169844 0.0692048 … 0.1680429 -0.18622297], nothing, \"weight\") => ([0.0 0.0 … 0.0 0.0], [0.0 0.0 … 0.0 0.0], 0), Variable([0.0, 0.0, 0.0, 0.0, 0.0, 0.0, 0.0, 0.0, 0.0, 0.0  …  0.0, 0.0, 0.0, 0.0, 0.0, 0.0, 0.0, 0.0, 0.0, 0.0], nothing, \"bias\") => ([0.0, 0.0, 0.0, 0.0, 0.0, 0.0, 0.0, 0.0, 0.0, 0.0  …  0.0, 0.0, 0.0, 0.0, 0.0, 0.0, 0.0, 0.0, 0.0, 0.0], [0.0, 0.0, 0.0, 0.0, 0.0, 0.0, 0.0, 0.0, 0.0, 0.0  …  0.0, 0.0, 0.0, 0.0, 0.0, 0.0, 0.0, 0.0, 0.0, 0.0], 0), Variable([0.0], nothing, \"bias\") => ([0.0], [0.0], 0), Variable(Float32[0.005207593 -0.010862097 … 0.014115392 -0.016502006; 0.0009457772 0.006190597 … 0.007992115 -0.017684417; … ; 0.002267362 -0.013136274 … 0.00014214538 -0.004485451; -0.0028275086 -0.0038113743 … -0.009805873 -0.010039179], nothing, \"weight\") => ([0.0 0.0 … 0.0 0.0; 0.0 0.0 … 0.0 0.0; … ; 0.0 0.0 … 0.0 0.0; 0.0 0.0 … 0.0 0.0], [0.0 0.0 … 0.0 0.0; 0.0 0.0 … 0.0 0.0; … ; 0.0 0.0 … 0.0 0.0; 0.0 0.0 … 0.0 0.0], 0)))"
      ]
     },
     "metadata": {},
     "output_type": "display_data"
    }
   ],
   "source": [
    "model = Chain(\n",
    "    Dense(input_neurons, hidden_neurons, relu),\n",
    "    Dense(hidden_neurons, output_neurons, σ)\n",
    ")\n",
    "\n",
    "y = Variable(zeros(1, batch_size), name=\"y\")\n",
    "x = Variable(zeros(input_neurons, batch_size), name=\"x\")\n",
    "\n",
    "function loss(model, x, y)\n",
    "    ŷ = model(x)\n",
    "    E = binary_cross_entropy_loss(y, ŷ)\n",
    "    E.name = \"loss\"\n",
    "    return E, ŷ\n",
    "end\n",
    "\n",
    "otp = setup(Adam(), model)"
   ]
  },
  {
   "cell_type": "code",
   "execution_count": null,
   "id": "5ecfe748",
   "metadata": {},
   "outputs": [
    {
     "name": "stdout",
     "output_type": "stream",
     "text": [
      "Epoch: 1 (11.61s) \tTrain: (loss: 0.6452, acc: 0.7784)\n",
      "Epoch: 2 (2.66s) \tTrain: (loss: 0.4577, acc: 0.9169)\n",
      "Epoch: 3 (2.49s) \tTrain: (loss: 0.2970, acc: 0.9435)\n",
      "Epoch: 4 (2.44s) \tTrain: (loss: 0.2029, acc: 0.9639)\n",
      "Epoch: 5 (2.83s) \tTrain: (loss: 0.1447, acc: 0.9765)\n"
     ]
    }
   ],
   "source": [
    "L, ŷ_node = loss(model, x, y)\n",
    "graph = topological_sort(L)\n",
    "\n",
    "for epoch in 1:epochs\n",
    "    total_loss = 0.0\n",
    "    total_correct = 0\n",
    "    total_samples = 0\n",
    "\n",
    "    t = @elapsed begin\n",
    "        for (xb, yb) in dataset\n",
    "            current_batch_size = size(xb, 2)\n",
    "\n",
    "            x.output .= xb\n",
    "            y.output .= yb\n",
    "\n",
    "            lval = forward!(graph)\n",
    "\n",
    "            for param in trainable(model)\n",
    "                param.gradient = nothing\n",
    "            end\n",
    "            backward!(graph)\n",
    "\n",
    "            update!(otp, model)\n",
    "\n",
    "            ŷ = ŷ_node.output\n",
    "            predictions = ŷ .> 0.5\n",
    "            targets = y.output .> 0.5\n",
    "            total_correct += count(predictions .== targets)\n",
    "            total_loss += lval[1] * current_batch_size\n",
    "            total_samples += current_batch_size\n",
    "        end\n",
    "    end\n",
    "\n",
    "    avg_loss = total_loss / total_samples\n",
    "    avg_acc = total_correct / total_samples\n",
    "\n",
    "    println(@sprintf(\"Epoch: %d (%.2fs) \\tTrain: (loss: %.4f, acc: %.4f)\",\n",
    "        epoch, t, avg_loss, avg_acc))\n",
    "\n",
    "end"
   ]
  }
 ],
 "metadata": {
  "kernelspec": {
   "display_name": "Julia 1.11.5",
   "language": "julia",
   "name": "julia-1.11"
  },
  "language_info": {
   "file_extension": ".jl",
   "mimetype": "application/julia",
   "name": "julia",
   "version": "1.11.5"
  }
 },
 "nbformat": 4,
 "nbformat_minor": 5
}
