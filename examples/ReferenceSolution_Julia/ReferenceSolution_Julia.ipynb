{
 "cells": [
  {
   "cell_type": "markdown",
   "id": "d5eb34b8",
   "metadata": {},
   "source": [
    "A CNN created with Flux.jl"
   ]
  },
  {
   "cell_type": "code",
   "execution_count": 6,
   "id": "14898ca2",
   "metadata": {},
   "outputs": [
    {
     "name": "stderr",
     "output_type": "stream",
     "text": [
      "\u001b[32m\u001b[1m  Activating\u001b[22m\u001b[39m project at `~/LocalDocuments/Studia/AlgorytmyWInzynieriiDanych/KM3_Repo/examples/ReferenceSolution_Julia`\n"
     ]
    }
   ],
   "source": [
    "using Pkg\n",
    "Pkg.activate(\".\")"
   ]
  },
  {
   "cell_type": "code",
   "execution_count": 7,
   "id": "01043f41",
   "metadata": {},
   "outputs": [
    {
     "data": {
      "text/plain": [
       "50"
      ]
     },
     "metadata": {},
     "output_type": "display_data"
    }
   ],
   "source": [
    "using JLD2\n",
    "X_train = load(\"../../data/imdb_dataset_prepared.jld2\", \"X_train\")\n",
    "y_train = load(\"../../data/imdb_dataset_prepared.jld2\", \"y_train\")\n",
    "X_test = load(\"../../data/imdb_dataset_prepared.jld2\", \"X_test\")\n",
    "y_test = load(\"../../data/imdb_dataset_prepared.jld2\", \"y_test\")\n",
    "embeddings = load(\"../../data/imdb_dataset_prepared.jld2\", \"embeddings\")\n",
    "vocab = load(\"../../data/imdb_dataset_prepared.jld2\", \"vocab\")\n",
    "nothing\n",
    "\n",
    "embedding_dim = size(embeddings,1)"
   ]
  },
  {
   "cell_type": "code",
   "execution_count": 8,
   "id": "3cfc0977",
   "metadata": {},
   "outputs": [
    {
     "data": {
      "text/plain": [
       "Chain(\n",
       "  Embedding(12849 => 50),               \u001b[90m# 642_450 parameters\u001b[39m\n",
       "  var\"#13#14\"(),\n",
       "  Conv((3,), 50 => 8, relu),            \u001b[90m# 1_208 parameters\u001b[39m\n",
       "  MaxPool((8,)),\n",
       "  Flux.flatten,\n",
       "  Dense(128 => 1, σ),                   \u001b[90m# 129 parameters\u001b[39m\n",
       ") \u001b[90m                  # Total: 5 arrays, \u001b[39m643_787 parameters, 2.456 MiB."
      ]
     },
     "metadata": {},
     "output_type": "display_data"
    }
   ],
   "source": [
    "using Flux\n",
    "\n",
    "model = Chain(\n",
    "    Flux.Embedding(length(vocab), embedding_dim),\n",
    "    x->permutedims(x, (2,1,3)),\n",
    "    Conv((3,), embedding_dim => 8, relu),\n",
    "    MaxPool((8,)),\n",
    "    Flux.flatten,\n",
    "    Dense(128, 1, σ)\n",
    ")"
   ]
  },
  {
   "cell_type": "code",
   "execution_count": 9,
   "id": "a38c70f1",
   "metadata": {},
   "outputs": [],
   "source": [
    "# add Glove embeddings to Embedding layer\n",
    "model.layers[1].weight .= embeddings;"
   ]
  },
  {
   "cell_type": "code",
   "execution_count": 10,
   "id": "69ea091c",
   "metadata": {},
   "outputs": [
    {
     "name": "stdout",
     "output_type": "stream",
     "text": [
      "Epoch: 1 (35.34s) \tTrain: (l: 0.54, a: 0.73) \tTest: (l: 0.40, a: 0.82)\n",
      "Epoch: 2 (13.29s) \tTrain: (l: 0.33, a: 0.86) \tTest: (l: 0.34, a: 0.86)\n",
      "Epoch: 3 (14.54s) \tTrain: (l: 0.25, a: 0.90) \tTest: (l: 0.32, a: 0.87)\n",
      "Epoch: 4 (13.25s) \tTrain: (l: 0.19, a: 0.93) \tTest: (l: 0.33, a: 0.86)\n",
      "Epoch: 5 (13.39s) \tTrain: (l: 0.14, a: 0.95) \tTest: (l: 0.35, a: 0.86)\n"
     ]
    }
   ],
   "source": [
    "using Printf, Statistics\n",
    "\n",
    "dataset = Flux.DataLoader((X_train, y_train), batchsize=64, shuffle=true)\n",
    "\n",
    "loss(m, x, y) = Flux.Losses.binarycrossentropy(m(x), y)\n",
    "accuracy(m, x, y) = mean((m(x) .> 0.5) .== (y .> 0.5))\n",
    "\n",
    "opt = Optimisers.setup(Adam(), model)\n",
    "\n",
    "epochs = 5\n",
    "for epoch in 1:epochs\n",
    "    total_loss = 0.0\n",
    "    total_acc = 0.0\n",
    "    num_samples = 0\n",
    "\n",
    "    t = @elapsed begin\n",
    "        for (x, y) in dataset\n",
    "            grads = Flux.gradient(model) do m\n",
    "                loss(m, x, y)\n",
    "            end\n",
    "            Optimisers.update!(opt, model, grads[1])\n",
    "            total_loss += loss(model, x, y)\n",
    "            total_acc += accuracy(model, x, y)\n",
    "            num_samples += 1\n",
    "        end\n",
    "\n",
    "        train_loss = total_loss / num_samples\n",
    "        train_acc = total_acc / num_samples\n",
    "\n",
    "        test_acc = accuracy(model, X_test, y_test)\n",
    "        test_loss = loss(model, X_test, y_test)\n",
    "    end\n",
    "\n",
    "    println(@sprintf(\"Epoch: %d (%.2fs) \\tTrain: (l: %.2f, a: %.2f) \\tTest: (l: %.2f, a: %.2f)\", \n",
    "        epoch, t, train_loss, train_acc, test_loss, test_acc))\n",
    "end"
   ]
  }
 ],
 "metadata": {
  "kernelspec": {
   "display_name": "Julia 1.11.5",
   "language": "julia",
   "name": "julia-1.11"
  },
  "language_info": {
   "file_extension": ".jl",
   "mimetype": "application/julia",
   "name": "julia",
   "version": "1.11.5"
  }
 },
 "nbformat": 4,
 "nbformat_minor": 5
}
